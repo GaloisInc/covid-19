{
 "cells": [
  {
   "cell_type": "code",
   "execution_count": 6,
   "metadata": {},
   "outputs": [],
   "source": [
    "import pandas as pd\n",
    "import requests\n",
    "import numpy as np\n",
    "\n",
    "us_state_abbrev = {\n",
    "    'Alabama': 'AL',\n",
    "    'Alaska': 'AK',\n",
    "    'Arizona': 'AZ',\n",
    "    'Arkansas': 'AR',\n",
    "    'California': 'CA',\n",
    "    'Colorado': 'CO',\n",
    "    'Connecticut': 'CT',\n",
    "    'Delaware': 'DE',\n",
    "    'District of Columbia': 'DC',\n",
    "    'Florida': 'FL',\n",
    "    'Georgia': 'GA',\n",
    "    'Hawaii': 'HI',\n",
    "    'Idaho': 'ID',\n",
    "    'Illinois': 'IL',\n",
    "    'Indiana': 'IN',\n",
    "    'Iowa': 'IA',\n",
    "    'Kansas': 'KS',\n",
    "    'Kentucky': 'KY',\n",
    "    'Louisiana': 'LA',\n",
    "    'Maine': 'ME',\n",
    "    'Maryland': 'MD',\n",
    "    'Massachusetts': 'MA',\n",
    "    'Michigan': 'MI',\n",
    "    'Minnesota': 'MN',\n",
    "    'Mississippi': 'MS',\n",
    "    'Missouri': 'MO',\n",
    "    'Montana': 'MT',\n",
    "    'Nebraska': 'NE',\n",
    "    'Nevada': 'NV',\n",
    "    'New Hampshire': 'NH',\n",
    "    'New Jersey': 'NJ',\n",
    "    'New Mexico': 'NM',\n",
    "    'New York': 'NY',\n",
    "    'North Carolina': 'NC',\n",
    "    'North Dakota': 'ND',\n",
    "    'Ohio': 'OH',\n",
    "    'Oklahoma': 'OK',\n",
    "    'Oregon': 'OR',\n",
    "    'Palau': 'PW',\n",
    "    'Pennsylvania': 'PA',\n",
    "    'Rhode Island': 'RI',\n",
    "    'South Carolina': 'SC',\n",
    "    'South Dakota': 'SD',\n",
    "    'Tennessee': 'TN',\n",
    "    'Texas': 'TX',\n",
    "    'Utah': 'UT',\n",
    "    'Vermont': 'VT',\n",
    "    'Virginia': 'VA',\n",
    "    'Washington': 'WA',\n",
    "    'West Virginia': 'WV',\n",
    "    'Wisconsin': 'WI',\n",
    "    'Wyoming': 'WY',\n",
    "}\n",
    "\n",
    "stateList = list(us_state_abbrev.keys())\n",
    "\n",
    "URL = 'https://raw.githubusercontent.com/CSSEGISandData/COVID-19/master/csse_covid_19_data/csse_covid_19_time_series/time_series_19-covid-Confirmed.csv'\n",
    "\n",
    "r = requests.get(URL) \n",
    "\n",
    "with open(\"confirmed-jhu-timeseries.csv\", \"w\") as fout:\n",
    "    fout.write(r.content.decode('utf-8'))\n",
    "    \n",
    "URL = 'https://raw.githubusercontent.com/CSSEGISandData/COVID-19/master/csse_covid_19_data/csse_covid_19_time_series/time_series_19-covid-Deaths.csv'\n",
    "\n",
    "r = requests.get(URL) \n",
    "\n",
    "with open(\"deaths-jhu-timeseries.csv\", \"w\") as fout:\n",
    "    fout.write(r.content.decode('utf-8'))\n",
    "    \n",
    "URL = 'https://raw.githubusercontent.com/CSSEGISandData/COVID-19/master/csse_covid_19_data/csse_covid_19_time_series/time_series_19-covid-Recovered.csv'\n",
    "\n",
    "with open(\"recovered-jhu-timeseries.csv\", \"w\") as fout:\n",
    "    fout.write(r.content.decode('utf-8'))\n"
   ]
  },
  {
   "cell_type": "code",
   "execution_count": null,
   "metadata": {},
   "outputs": [],
   "source": []
  },
  {
   "cell_type": "code",
   "execution_count": 2,
   "metadata": {},
   "outputs": [
    {
     "name": "stdout",
     "output_type": "stream",
     "text": [
      "{'Province/State': 'Alabama', 'Country/Region': 'US', 'Lat': 32.3182, 'Long': -86.9023, '1/22/20': 0, '1/23/20': 0, '1/24/20': 0, '1/25/20': 0, '1/26/20': 0, '1/27/20': 0, '1/28/20': 0, '1/29/20': 0, '1/30/20': 0, '1/31/20': 0, '2/1/20': 0, '2/2/20': 0, '2/3/20': 0, '2/4/20': 0, '2/5/20': 0, '2/6/20': 0, '2/7/20': 0, '2/8/20': 0, '2/9/20': 0, '2/10/20': 0, '2/11/20': 0, '2/12/20': 0, '2/13/20': 0, '2/14/20': 0, '2/15/20': 0, '2/16/20': 0, '2/17/20': 0, '2/18/20': 0, '2/19/20': 0, '2/20/20': 0, '2/21/20': 0, '2/22/20': 0, '2/23/20': 0, '2/24/20': 0, '2/25/20': 0, '2/26/20': 0, '2/27/20': 0, '2/28/20': 0, '2/29/20': 0, '3/1/20': 0, '3/2/20': 0, '3/3/20': 0, '3/4/20': 0, '3/5/20': 0, '3/6/20': 0, '3/7/20': 0, '3/8/20': 0, '3/9/20': 0, '3/10/20': 0, '3/11/20': 0, '3/12/20': 0, '3/13/20': 5, '3/14/20': 6, '3/15/20': 12, '3/16/20': 29, '3/17/20': 39, '3/18/20': 46, '3/19/20': 78, '3/20/20': 83, '3/21/20': 131, '3/22/20': 138, '3/23/20': 138.0}\n"
     ]
    }
   ],
   "source": [
    "df = pd.read_csv('confirmed-jhu-timeseries.csv')\n",
    "df['Province/State'] = df['Province/State'].fillna('Total')\n",
    "jhuConfirmed = df\n",
    "df = df[df['Country/Region'].str.contains('US')]\n",
    "confirmedDF = df[df['Province/State'].isin(stateList)]\n",
    "\n",
    "df = pd.read_csv('deaths-jhu-timeseries.csv')\n",
    "df['Province/State'] = df['Province/State'].fillna('Total')\n",
    "jhuDeath = df\n",
    "df = df[df['Country/Region'].str.contains('US')]\n",
    "deathDF = df[df['Province/State'].isin(stateList)]\n",
    "\n",
    "df = pd.read_csv('recovered-jhu-timeseries.csv')\n",
    "df['Province/State'] = df['Province/State'].fillna('Total')\n",
    "jhuRecovered = df\n",
    "df = df[df['Country/Region'].str.contains('US')]\n",
    "deathDF = df[df['Province/State'].isin(stateList)]\n",
    "\n",
    "for state in stateList[0:1]:\n",
    "    print(confirmedDF[confirmedDF['Province/State'].str.contains(state)].to_dict('r')[0])"
   ]
  },
  {
   "cell_type": "code",
   "execution_count": 3,
   "metadata": {},
   "outputs": [
    {
     "data": {
      "text/plain": [
       "<Figure size 1500x1000 with 1 Axes>"
      ]
     },
     "metadata": {},
     "output_type": "display_data"
    }
   ],
   "source": [
    "import matplotlib\n",
    "import matplotlib.pyplot as plt\n",
    "\n",
    "doublingTime = 6.2\n",
    "avgTTD = 17.3\n",
    "caseMult = 2.0**(avgTTD/doublingTime)\n",
    "mortalityRate = 0.034\n",
    "infectedEst = caseMult / mortalityRate\n",
    "\n",
    "timeSeries = jhuConfirmed.columns[4:]\n",
    "estimated = jhuDeath.copy()\n",
    "gap = jhuDeath.copy()\n",
    "for colName in timeSeries:\n",
    "    estimated[colName] = estimated[colName] * infectedEst\n",
    "    \n",
    "gap[timeSeries] = estimated[timeSeries].subtract(jhuConfirmed[timeSeries])\n",
    "num = gap._get_numeric_data()\n",
    "num[num < 0] = 0\n",
    "\n",
    "country = 'Korea, South'\n",
    "province = 'Total'\n",
    "\n",
    "confirmedPlot = jhuConfirmed[jhuConfirmed['Province/State'].str.contains(province)]\n",
    "deathPlot = jhuDeath[jhuDeath['Province/State'].str.contains(province)]\n",
    "estimatedPlot = estimated[estimated['Province/State'].str.contains(province)]\n",
    "\n",
    "matplotlib.style.use('ggplot')\n",
    "ax = deathPlot[deathPlot['Country/Region'].str.contains(country)].round(0)[timeSeries].transpose().plot(kind='line', title =\"Testing Gap\", figsize=(15, 10), legend=True, fontsize=12)\n",
    "confirmedPlot[confirmedPlot['Country/Region'].str.contains(country)].round(0)[timeSeries].transpose().plot(kind='line', title =\"Testing Gap\", figsize=(15, 10), legend=True, fontsize=12, ax=ax)\n",
    "estimatedPlot[estimatedPlot['Country/Region'].str.contains(country)].round(0)[timeSeries].transpose().plot(kind='line', title =\"Testing Gap\", figsize=(15, 10), legend=True, fontsize=12, ax=ax)\n",
    "ax.legend(['Deaths', 'Confirmed Infected', 'Estimated Infected'])\n",
    "ax.set_xlabel(\"Day\", fontsize=12)\n",
    "ax.set_ylabel(\"People\", fontsize=12)\n",
    "plt.yscale(\"log\")\n",
    "plt.show()\n"
   ]
  },
  {
   "cell_type": "code",
   "execution_count": 7,
   "metadata": {},
   "outputs": [
    {
     "ename": "TypeError",
     "evalue": "'module' object is not callable",
     "output_type": "error",
     "traceback": [
      "\u001b[0;31m---------------------------------------------------------------------------\u001b[0m",
      "\u001b[0;31mTypeError\u001b[0m                                 Traceback (most recent call last)",
      "\u001b[0;32m<ipython-input-7-5e27568b6220>\u001b[0m in \u001b[0;36m<module>\u001b[0;34m()\u001b[0m\n\u001b[1;32m     23\u001b[0m \u001b[0;34m\u001b[0m\u001b[0m\n\u001b[1;32m     24\u001b[0m \u001b[0;34m\u001b[0m\u001b[0m\n\u001b[0;32m---> 25\u001b[0;31m \u001b[0mnp\u001b[0m\u001b[0;34m(\u001b[0m\u001b[0mconfirmedTS\u001b[0m\u001b[0;34m,\u001b[0m \u001b[0mrecoveredTS\u001b[0m\u001b[0;34m,\u001b[0m \u001b[0mdeathTS\u001b[0m\u001b[0;34m,\u001b[0m \u001b[0mnewDeathTS\u001b[0m\u001b[0;34m)\u001b[0m\u001b[0;34m\u001b[0m\u001b[0;34m\u001b[0m\u001b[0m\n\u001b[0m",
      "\u001b[0;31mTypeError\u001b[0m: 'module' object is not callable"
     ]
    }
   ],
   "source": [
    "country = 'Korea, South'\n",
    "province = 'Total'\n",
    "tsValues = list(timeSeries)\n",
    "\n",
    "confirmedDF = jhuConfirmed[jhuConfirmed['Country/Region'].str.contains(country) & jhuConfirmed['Province/State'].str.contains(province)]\n",
    "confirmedTS = dict(confirmedDF[timeSeries].iloc[0])\n",
    "deathDF = jhuDeath[jhuDeath['Country/Region'].str.contains(country) & jhuDeath['Province/State'].str.contains(province)]\n",
    "deathTS = dict(deathDF[timeSeries].iloc[0])\n",
    "recoveredDF = jhuRecovered[jhuRecovered['Country/Region'].str.contains(country) & jhuRecovered['Province/State'].str.contains(province)]\n",
    "recoveredTS = dict(recoveredDF[timeSeries].iloc[0])\n",
    "totalDeaths = list(deathTS.values())\n",
    "\n",
    "newDeaths = list()\n",
    "lastDeath = 0.0\n",
    "for death in totalDeaths:\n",
    "    newDead = death - lastDeath\n",
    "    newDeaths.append(newDead)\n",
    "    lastDeath = death\n",
    "    \n",
    "newDeathTS = dict(zip(tsValues, newDeaths))\n",
    "\n",
    "pd.DataFrame([confirmedTS, recoveredTS, deathTS, newDeathTS], index=[\"Cumulative Confirmed\", \"Cumulative Recovered\", \"Cumulative Deaths\", \"New Deaths\"])"
   ]
  }
 ],
 "metadata": {
  "kernelspec": {
   "display_name": "Python 3",
   "language": "python",
   "name": "python3"
  },
  "language_info": {
   "codemirror_mode": {
    "name": "ipython",
    "version": 3
   },
   "file_extension": ".py",
   "mimetype": "text/x-python",
   "name": "python",
   "nbconvert_exporter": "python",
   "pygments_lexer": "ipython3",
   "version": "3.7.7"
  }
 },
 "nbformat": 4,
 "nbformat_minor": 2
}
