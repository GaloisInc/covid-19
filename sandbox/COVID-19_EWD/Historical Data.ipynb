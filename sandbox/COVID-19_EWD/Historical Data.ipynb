{
 "cells": [
  {
   "cell_type": "code",
   "execution_count": 30,
   "metadata": {},
   "outputs": [],
   "source": [
    "import pandas as pd\n",
    "\n",
    "doublingTime = 6.2\n",
    "avgTTD = 17.3\n",
    "caseMult = 2.0**(avgTTD/doublingTime)\n",
    "mortalityRate = 0.01\n",
    "infectedEst = caseMult / mortalityRate\n",
    "\n",
    "confirmedDF = pd.read_csv('confirmed.csv')\n",
    "deathsDF = pd.read_csv('deaths.csv')\n",
    "estimated = pd.DataFrame(deathsDF)\n",
    "\n",
    "timeSeries = deathsDF.columns[4:]\n",
    "\n",
    "for colName in timeSeries:\n",
    "    estimated[colName] = estimated[colName] * infectedEst\n",
    "    \n",
    "estimated[timeSeries] = estimated[timeSeries].subtract(confirmedDF[timeSeries])\n",
    "num = estimated._get_numeric_data()\n",
    "num[num < 0] = 0\n",
    "estimated[estimated['State'].str.contains('WA')][timeSeries]\n",
    "estimated.loc['Total',:]= estimated.sum(axis=0)"
   ]
  }
 ],
 "metadata": {
  "kernelspec": {
   "display_name": "Python 3",
   "language": "python",
   "name": "python3"
  },
  "language_info": {
   "codemirror_mode": {
    "name": "ipython",
    "version": 3
   },
   "file_extension": ".py",
   "mimetype": "text/x-python",
   "name": "python",
   "nbconvert_exporter": "python",
   "pygments_lexer": "ipython3",
   "version": "3.7.7"
  }
 },
 "nbformat": 4,
 "nbformat_minor": 2
}
